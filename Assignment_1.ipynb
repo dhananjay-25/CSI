{
 "cells": [
  {
   "cell_type": "markdown",
   "id": "1e28ffa9",
   "metadata": {},
   "source": [
    "# CSI "
   ]
  },
  {
   "cell_type": "markdown",
   "id": "5983b793",
   "metadata": {},
   "source": [
    "# BY Dhananjay Pratap Singh Chandel"
   ]
  },
  {
   "cell_type": "markdown",
   "id": "907bacad",
   "metadata": {},
   "source": [
    "## Assignment 1: Create lower triangular, upper triangular and pyramid containing the \"*\" character.\n"
   ]
  },
  {
   "cell_type": "markdown",
   "id": "aac38b35",
   "metadata": {},
   "source": [
    "### 1. Lower Triangle\n"
   ]
  },
  {
   "cell_type": "code",
   "execution_count": 2,
   "id": "7b30f888",
   "metadata": {},
   "outputs": [
    {
     "name": "stdout",
     "output_type": "stream",
     "text": [
      "* \n",
      "* * \n",
      "* * * \n"
     ]
    }
   ],
   "source": [
    "n= int(input(\"Enter the number of rows for triangle: \"))\n",
    "for i in range(n): \n",
    "    for j in range(i+1):\n",
    "        print(\"*\", end=' ')\n",
    "    print()\n"
   ]
  },
  {
   "cell_type": "code",
   "execution_count": 3,
   "id": "65efe4c8",
   "metadata": {},
   "outputs": [
    {
     "name": "stdout",
     "output_type": "stream",
     "text": [
      "* \n",
      "* * \n",
      "* * * \n",
      "* * * * \n",
      "* * * * * \n"
     ]
    }
   ],
   "source": [
    "n= 5\n",
    "for i in range(n): \n",
    "    for j in range(i+1):\n",
    "        print(\"*\", end=' ')\n",
    "    print()"
   ]
  },
  {
   "cell_type": "markdown",
   "id": "fa307452",
   "metadata": {},
   "source": [
    "### 2. Upper Triangle"
   ]
  },
  {
   "cell_type": "code",
   "execution_count": 4,
   "id": "4812129a",
   "metadata": {},
   "outputs": [
    {
     "name": "stdout",
     "output_type": "stream",
     "text": [
      "* * * * * * * * \n",
      "* * * * * * * \n",
      "* * * * * * \n",
      "* * * * * \n",
      "* * * * \n",
      "* * * \n",
      "* * \n",
      "* \n"
     ]
    }
   ],
   "source": [
    "n= int(input(\"Enter the number of rows for triangle: \"))\n",
    "for i in range(n+1,1,-1): \n",
    "    for j in range(i,1,-1):\n",
    "        print(\"*\", end=' ')\n",
    "    print()"
   ]
  },
  {
   "cell_type": "code",
   "execution_count": 5,
   "id": "f6f16c7a",
   "metadata": {},
   "outputs": [
    {
     "name": "stdout",
     "output_type": "stream",
     "text": [
      "* * * * * \n",
      "* * * * \n",
      "* * * \n",
      "* * \n",
      "* \n"
     ]
    }
   ],
   "source": [
    "n= 5\n",
    "for i in range(n+1,1,-1): \n",
    "    for j in range(i,1,-1):\n",
    "        print(\"*\", end=' ')\n",
    "    print()"
   ]
  },
  {
   "cell_type": "markdown",
   "id": "1f297b37",
   "metadata": {},
   "source": [
    "### 3. Pyramid\n"
   ]
  },
  {
   "cell_type": "code",
   "execution_count": 6,
   "id": "09e50b8f",
   "metadata": {},
   "outputs": [
    {
     "name": "stdout",
     "output_type": "stream",
     "text": [
      "    * \n",
      "  * * * \n",
      "* * * * * \n"
     ]
    }
   ],
   "source": [
    "n=int(input(\"Enter the number of rows for triangle: \"))    \n",
    "for i in range(1, n + 1):\n",
    "        for j in range(n - i):\n",
    "            print(\" \", end=' ')\n",
    "        for k in range(1, 2*i):\n",
    "            print(\"*\", end=' ')\n",
    "        print()"
   ]
  },
  {
   "cell_type": "code",
   "execution_count": 7,
   "id": "03d579fb",
   "metadata": {},
   "outputs": [
    {
     "name": "stdout",
     "output_type": "stream",
     "text": [
      "        * \n",
      "      * * * \n",
      "    * * * * * \n",
      "  * * * * * * * \n",
      "* * * * * * * * * \n"
     ]
    }
   ],
   "source": [
    "n=5    \n",
    "for i in range(1, n + 1):\n",
    "        for j in range(n - i):\n",
    "            print(\" \", end=' ')\n",
    "        for k in range(1, 2*i):\n",
    "            print(\"*\", end=' ')\n",
    "        print()"
   ]
  },
  {
   "cell_type": "markdown",
   "id": "13c46ff8",
   "metadata": {},
   "source": [
    "### All three patterns together\n",
    "\n",
    "\n"
   ]
  },
  {
   "cell_type": "code",
   "execution_count": 8,
   "id": "e39ba180",
   "metadata": {},
   "outputs": [
    {
     "name": "stdout",
     "output_type": "stream",
     "text": [
      "Lower         Upper        Pyramid\n",
      "*            * * * * *        *          \n",
      "* *          * * * *         * *         \n",
      "* * *        * * *          * * *        \n",
      "* * * *      * *           * * * *       \n",
      "* * * * *    *            * * * * *      \n"
     ]
    }
   ],
   "source": [
    "\n",
    "print(\"Lower\" + \" \" * 9 + \"Upper\" + \" \" * 8 + \"Pyramid\")\n",
    "n = 5\n",
    "for i in range(1, n + 1):\n",
    "    # Lower Triangle\n",
    "    lower = \"* \" * i\n",
    "    lower = lower.ljust(n * 2)\n",
    "    # Upper Triangle    \n",
    "    upper = \"* \" * (n - i + 1)\n",
    "    upper = upper.ljust(n * 2)\n",
    "    # Pyramid\n",
    "    spaces = \" \" * (n - i)\n",
    "    pyramid = spaces + \"* \" * i\n",
    "    pyramid = pyramid.ljust(n * 3)\n",
    "    \n",
    "    # printing side-by-side    \n",
    "    print(lower + \"   \" + upper + \"   \" + pyramid)\n",
    "\n",
    "\n"
   ]
  },
  {
   "cell_type": "code",
   "execution_count": null,
   "id": "473c50c8",
   "metadata": {},
   "outputs": [],
   "source": []
  }
 ],
 "metadata": {
  "kernelspec": {
   "display_name": "base",
   "language": "python",
   "name": "python3"
  },
  "language_info": {
   "codemirror_mode": {
    "name": "ipython",
    "version": 3
   },
   "file_extension": ".py",
   "mimetype": "text/x-python",
   "name": "python",
   "nbconvert_exporter": "python",
   "pygments_lexer": "ipython3",
   "version": "3.11.11"
  }
 },
 "nbformat": 4,
 "nbformat_minor": 5
}
